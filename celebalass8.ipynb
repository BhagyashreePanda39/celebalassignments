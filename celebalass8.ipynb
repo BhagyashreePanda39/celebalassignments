{
 "cells": [
  {
   "cell_type": "code",
   "execution_count": 1,
   "id": "d0838fd2-8593-4e87-bfa5-9a8ad1382a2f",
   "metadata": {},
   "outputs": [],
   "source": [
    "import pandas as pd\n",
    "\n",
    "df = pd.read_csv(r\"C:\\Users\\bhagy\\Downloads\\archive (2)\\Training Dataset.csv\")\n",
    "df = df.dropna()\n",
    "docs = df.apply(lambda row:\n",
    "    f\"Applicant ID {row['Loan_ID']} is a {row['Gender']} with {row['Education']} education. \"\n",
    "    f\"Married: {row['Married']}, Dependents: {row['Dependents']}, Self-Employed: {row['Self_Employed']}. \"\n",
    "    f\"ApplicantIncome: {row['ApplicantIncome']}, CoapplicantIncome: {row['CoapplicantIncome']}, \"\n",
    "    f\"LoanAmount: {row['LoanAmount']}, Loan_Term: {row['Loan_Amount_Term']}, \"\n",
    "    f\"Credit_History: {row['Credit_History']}, Property_Area: {row['Property_Area']}. \"\n",
    "    f\"Loan_Status: {'Approved' if row['Loan_Status'] == 'Y' else 'Rejected'}.\",\n",
    "axis=1).tolist()"
   ]
  },
  {
   "cell_type": "code",
   "execution_count": 2,
   "id": "c954f323-4b6f-4e15-b164-cd67010d6fb8",
   "metadata": {},
   "outputs": [],
   "source": [
    "from sklearn.feature_extraction.text import TfidfVectorizer\n",
    "\n",
    "vectorizer = TfidfVectorizer()\n",
    "doc_embeddings = vectorizer.fit_transform(docs)\n"
   ]
  },
  {
   "cell_type": "code",
   "execution_count": 3,
   "id": "03ca58a6-79da-420f-bc5e-b9fa54cc6aa5",
   "metadata": {},
   "outputs": [],
   "source": [
    "query = \"What are the factors affecting loan approval?\"\n",
    "query_embedding = vectorizer.transform([query])"
   ]
  },
  {
   "cell_type": "code",
   "execution_count": 4,
   "id": "cfe4828b-c3f2-4d13-954b-eb14b2f9bbe2",
   "metadata": {},
   "outputs": [],
   "source": [
    "from sklearn.metrics.pairwise import cosine_similarity\n",
    "\n",
    "similarities = cosine_similarity(query_embedding, doc_embeddings).flatten()\n",
    "top_k_indices = similarities.argsort()[-10:][::-1]\n",
    "retrieved_docs = [docs[i] for i in top_k_indices]"
   ]
  },
  {
   "cell_type": "code",
   "execution_count": 5,
   "id": "bb8bb28e-1815-4a03-a908-39032a65ba42",
   "metadata": {},
   "outputs": [
    {
     "name": "stderr",
     "output_type": "stream",
     "text": [
      "Device set to use cpu\n"
     ]
    },
    {
     "name": "stdout",
     "output_type": "stream",
     "text": [
      "Applicant ID LP002990 is a Female with Graduate education. Married: No, Dependents: 0, Self-Employed: Yes. ApplicantIncome: 4583, CoapplicantIncome: 0.0, LoanAmount: 133.0, Loan_Term: 360.0, Credit_History: 0.0, Property_Area: Semiurban. Loan_Status: Rejected.\n",
      "\n",
      "Applicant ID LP002984 is a Male with Graduate education. Married: Yes, Dependents: 2, Self-Employed: No. ApplicantIncome: 7583, CoapplicantIncome: 0.0, LoanAmount: 187.0, Loan_Term: 360.0, Credit_History: 1.0, Property_Area: Urban. Loan_Status: Approved.\n",
      "\n",
      "Applicant ID LP001664 is a Male with Graduate education. Married: No, Dependents: 0, Self-Employed: No. ApplicantIncome: 4191, CoapplicantIncome: 0.0, LoanAmount: 120.0, Loan_Term: 360.0, Credit_History: 1.0, Property_Area: Rural. Loan_Status: Approved.\n",
      "\n",
      "Applicant ID LP001665 is a Male with Graduate education. Married: Yes, Dependents: 1, Self-Employed: No. ApplicantIncome: 3125, CoapplicantIncome: 2583.0, LoanAmount: 170.0, Loan_Term: 360.0, Credit_History: 1.0, Property_Area: Semiurban. Loan_Status: Rejected.\n",
      "\n",
      "Applicant ID LP001666 is a Male with Graduate education. Married: No, Dependents: 0, Self-Employed: No. ApplicantIncome: 8333, CoapplicantIncome: 3750.0, LoanAmount: 187.0, Loan_Term: 360.0, Credit_History: 1.0, Property_Area: Rural. Loan_Status: Approved.\n",
      "\n",
      "Applicant ID LP001673 is a Male with Graduate education. Married: No, Dependents: 0, Self-Employed: Yes. ApplicantIncome: 11000, CoapplicantIncome: 0.0, LoanAmount: 83.0, Loan_Term: 360.0, Credit_History: 1.0, Property_Area: Urban. Loan_Status: Rejected.\n",
      "\n",
      "Applicant ID LP001674 is a Male with Not Graduate education. Married: Yes, Dependents: 1, Self-Employed: No. ApplicantIncome: 2600, CoapplicantIncome: 2500.0, LoanAmount: 90.0, Loan_Term: 360.0, Credit_History: 1.0, Property_Area: Semiurban. Loan_Status: Approved.\n",
      "\n",
      "Applicant ID LP001677 is a Male with Graduate education. Married: No, Dependents: 2, Self-Employed: No. ApplicantIncome: 4923, CoapplicantIncome: 0.0, LoanAmount: 166.0, Loan_Term: 360.0, Credit_History: 0.0, Property_Area: Semiurban. Loan_Status: Approved.\n",
      "\n",
      "Applicant ID LP001688 is a Male with Not Graduate education. Married: Yes, Dependents: 1, Self-Employed: No. ApplicantIncome: 3500, CoapplicantIncome: 1083.0, LoanAmount: 135.0, Loan_Term: 360.0, Credit_History: 1.0, Property_Area: Urban. Loan_Status: Approved.\n",
      "\n",
      "Applicant ID LP001691 is a Male with Not Graduate education. Married: Yes, Dependents: 2, Self-Employed: No. ApplicantIncome: 3917, CoapplicantIncome: 0.0, LoanAmount: 124.0, Loan_Term: 360.0, Credit_History: 1.0, Property_Area: Semiurban. Loan_Status: Approved.\n",
      "Applicant ID LP001673 is a Male with Graduate education\n"
     ]
    }
   ],
   "source": [
    "from transformers import pipeline\n",
    "\n",
    "qa_model = pipeline(\"question-answering\", model=\"distilbert-base-uncased-distilled-squad\")\n",
    "\n",
    "context = \" \".join(retrieved_docs)\n",
    "print(\"\\n\\n\".join(retrieved_docs))\n",
    "result = qa_model(question=query, context=context)\n",
    "print(result['answer'])\n"
   ]
  },
  {
   "cell_type": "code",
   "execution_count": null,
   "id": "b2d5537a-7e29-494f-b665-cb42cec61bdf",
   "metadata": {},
   "outputs": [],
   "source": []
  }
 ],
 "metadata": {
  "kernelspec": {
   "display_name": "Python 3 (ipykernel)",
   "language": "python",
   "name": "python3"
  },
  "language_info": {
   "codemirror_mode": {
    "name": "ipython",
    "version": 3
   },
   "file_extension": ".py",
   "mimetype": "text/x-python",
   "name": "python",
   "nbconvert_exporter": "python",
   "pygments_lexer": "ipython3",
   "version": "3.11.7"
  }
 },
 "nbformat": 4,
 "nbformat_minor": 5
}
