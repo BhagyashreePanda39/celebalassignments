{
 "cells": [
  {
   "cell_type": "code",
   "execution_count": 4,
   "id": "e053e906-fc48-4504-9e6f-689636559088",
   "metadata": {},
   "outputs": [
    {
     "name": "stdout",
     "output_type": "stream",
     "text": [
      "Requirement already satisfied: xgboost in c:\\users\\bhagy\\anaconda3\\lib\\site-packages (3.0.2)\n",
      "Requirement already satisfied: numpy in c:\\users\\bhagy\\anaconda3\\lib\\site-packages (from xgboost) (1.24.3)\n",
      "Requirement already satisfied: scipy in c:\\users\\bhagy\\anaconda3\\lib\\site-packages (from xgboost) (1.11.4)\n"
     ]
    }
   ],
   "source": [
    "!pip install xgboost"
   ]
  },
  {
   "cell_type": "code",
   "execution_count": 10,
   "id": "36a4b2ef-a8b9-4072-b09e-4a2aba5a2468",
   "metadata": {},
   "outputs": [
    {
     "name": "stdout",
     "output_type": "stream",
     "text": [
      "Average CV RMSE: 0.1292382094615254\n",
      "Submission saved to 'submission.csv'\n"
     ]
    }
   ],
   "source": [
    "import pandas as pd\n",
    "import numpy as np\n",
    "from sklearn.model_selection import KFold, cross_val_score\n",
    "from sklearn.preprocessing import StandardScaler\n",
    "from sklearn.pipeline import Pipeline\n",
    "from sklearn.linear_model import Ridge\n",
    "import xgboost as xgb\n",
    "\n",
    "def fill_na(df):\n",
    "    num_cols = df.select_dtypes(include=['int64', 'float64']).columns\n",
    "    for col in num_cols:\n",
    "        df[col] = df[col].fillna(df[col].median())\n",
    "    cat_cols = df.select_dtypes(include=['object']).columns\n",
    "    for col in cat_cols:\n",
    "        df[col] = df[col].fillna('None')\n",
    "    return df\n",
    "\n",
    "def remove_outliers(df):\n",
    "    return df.drop(df[(df['GrLivArea'] > 4000) & (df['SalePrice'] < 300000)].index)\n",
    "\n",
    "def encode_ordinals(df):\n",
    "    quality_map = {'None': 0, 'Po': 1, 'Fa': 2, 'TA': 3, 'Gd': 4, 'Ex': 5}\n",
    "    for col in ['ExterQual', 'ExterCond', 'HeatingQC', 'KitchenQual', 'FireplaceQu', 'GarageQual', 'GarageCond', 'PoolQC', 'BsmtQual', 'BsmtCond']:\n",
    "        if col in df.columns:\n",
    "            df[col] = df[col].map(quality_map).fillna(0)\n",
    "    return df\n",
    "\n",
    "def gen_features(df):\n",
    "    df['TotalSF'] = df['TotalBsmtSF'] + df['1stFlrSF'] + df['2ndFlrSF']\n",
    "    df['TotalBath'] = df['FullBath'] + 0.5*df['HalfBath'] + df['BsmtFullBath'] + 0.5*df['BsmtHalfBath']\n",
    "    df['HouseAge'] = df['YrSold'] - df['YearBuilt']\n",
    "    df['RemodelAge'] = df['YrSold'] - df['YearRemodAdd']\n",
    "    return df\n",
    "\n",
    "train = pd.read_csv(r\"C:\\Users\\bhagy\\Downloads\\house-prices-advanced-regression-techniques\\train.csv\")\n",
    "test = pd.read_csv(r\"C:\\Users\\bhagy\\Downloads\\house-prices-advanced-regression-techniques\\test.csv\")\n",
    "test_id = test['Id']\n",
    "train = remove_outliers(train)\n",
    "y = np.log1p(train['SalePrice'])\n",
    "train.drop(['SalePrice', 'Id'], axis=1, inplace=True)\n",
    "test.drop(['Id'], axis=1, inplace=True)\n",
    "df = pd.concat([train, test], ignore_index=True)\n",
    "df = fill_na(df)\n",
    "df = encode_ordinals(df)\n",
    "df = gen_features(df)\n",
    "df = pd.get_dummies(df, drop_first=True)\n",
    "n_train = y.shape[0]\n",
    "X = df[:n_train]\n",
    "X_test = df[n_train:]\n",
    "model = Pipeline([\n",
    "    ('scaler', StandardScaler()),\n",
    "    ('reg', xgb.XGBRegressor(objective='reg:squarederror', n_estimators=100, learning_rate=0.05, max_depth=3, random_state=42))\n",
    "])\n",
    "kf = KFold(n_splits=5, shuffle=True, random_state=42)\n",
    "scores = -cross_val_score(model, X, y, scoring='neg_root_mean_squared_error', cv=kf)\n",
    "print(\"Average CV RMSE:\", scores.mean())\n",
    "model.fit(X, y)\n",
    "preds = np.expm1(model.predict(X_test))\n",
    "submission = pd.DataFrame({'Id': test_id, 'SalePrice': preds})\n",
    "submission.to_csv('submission.csv', index=False)\n",
    "print(\"Submission saved to 'submission.csv'\")\n"
   ]
  },
  {
   "cell_type": "code",
   "execution_count": null,
   "id": "ddcfbe8a-59d2-49d7-a17a-97654c1739d0",
   "metadata": {},
   "outputs": [],
   "source": []
  }
 ],
 "metadata": {
  "kernelspec": {
   "display_name": "Python 3 (ipykernel)",
   "language": "python",
   "name": "python3"
  },
  "language_info": {
   "codemirror_mode": {
    "name": "ipython",
    "version": 3
   },
   "file_extension": ".py",
   "mimetype": "text/x-python",
   "name": "python",
   "nbconvert_exporter": "python",
   "pygments_lexer": "ipython3",
   "version": "3.11.7"
  }
 },
 "nbformat": 4,
 "nbformat_minor": 5
}
