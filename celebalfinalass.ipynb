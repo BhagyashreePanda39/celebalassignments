{
 "cells": [
  {
   "cell_type": "code",
   "execution_count": 4,
   "id": "40a23f22-32e8-4c1c-a0e0-33ca99583f96",
   "metadata": {},
   "outputs": [
    {
     "name": "stdout",
     "output_type": "stream",
     "text": [
      "0.7910447761194029\n"
     ]
    }
   ],
   "source": [
    "import pandas as pd\n",
    "from sklearn.model_selection import train_test_split\n",
    "from sklearn.preprocessing import LabelEncoder\n",
    "from sklearn.ensemble import RandomForestClassifier\n",
    "from sklearn.metrics import accuracy_score\n",
    "df = pd.read_csv(r\"C:\\Users\\bhagy\\Downloads\\archive (1)\\WA_Fn-UseC_-Telco-Customer-Churn.csv\")\n",
    "df.drop(['customerID'], axis=1, inplace=True)\n",
    "df.replace(' ', pd.NA, inplace=True)\n",
    "df.dropna(inplace=True)\n",
    "for c in df.columns:\n",
    "    if df[c].dtype == 'object':\n",
    "        df[c] = LabelEncoder().fit_transform(df[c])\n",
    "x = df.drop('Churn', axis=1)\n",
    "y = df['Churn']\n",
    "xtr, xte, ytr, yte = train_test_split(x, y, test_size=0.2, random_state=1)\n",
    "m = RandomForestClassifier()\n",
    "m.fit(xtr, ytr)\n",
    "p = m.predict(xte)\n",
    "print(accuracy_score(yte, p))"
   ]
  },
  {
   "cell_type": "code",
   "execution_count": 5,
   "id": "cbf70e9b-77b3-4b14-9b1b-87527781b63f",
   "metadata": {},
   "outputs": [
    {
     "name": "stdout",
     "output_type": "stream",
     "text": [
      "[[937 104]\n",
      " [190 176]]\n",
      "              precision    recall  f1-score   support\n",
      "\n",
      "           0       0.83      0.90      0.86      1041\n",
      "           1       0.63      0.48      0.54       366\n",
      "\n",
      "    accuracy                           0.79      1407\n",
      "   macro avg       0.73      0.69      0.70      1407\n",
      "weighted avg       0.78      0.79      0.78      1407\n",
      "\n"
     ]
    }
   ],
   "source": [
    "from sklearn.metrics import classification_report, confusion_matrix\n",
    "print(confusion_matrix(yte, p))\n",
    "print(classification_report(yte, p))"
   ]
  },
  {
   "cell_type": "code",
   "execution_count": null,
   "id": "f2b4954e-0f93-48a0-91db-7752ef28eafb",
   "metadata": {},
   "outputs": [],
   "source": []
  }
 ],
 "metadata": {
  "kernelspec": {
   "display_name": "Python 3 (ipykernel)",
   "language": "python",
   "name": "python3"
  },
  "language_info": {
   "codemirror_mode": {
    "name": "ipython",
    "version": 3
   },
   "file_extension": ".py",
   "mimetype": "text/x-python",
   "name": "python",
   "nbconvert_exporter": "python",
   "pygments_lexer": "ipython3",
   "version": "3.11.7"
  }
 },
 "nbformat": 4,
 "nbformat_minor": 5
}
