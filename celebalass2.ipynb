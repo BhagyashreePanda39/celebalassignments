{
 "cells": [
  {
   "cell_type": "markdown",
   "id": "0785d1c8-5051-4e78-a095-611e0ab4b2ac",
   "metadata": {},
   "source": [
    "celebal assignment 2\n"
   ]
  },
  {
   "cell_type": "code",
   "execution_count": 4,
   "id": "2ec16760-2f1d-47b1-b724-60797179b81b",
   "metadata": {},
   "outputs": [
    {
     "name": "stdout",
     "output_type": "stream",
     "text": [
      "Original List:\n",
      "10 -> 20 -> 30 -> 40 -> None\n",
      "List after deleting 3rd node:\n",
      "10 -> 20 -> 40 -> None\n"
     ]
    }
   ],
   "source": [
    "class Node:\n",
    "    def __init__(self, data):\n",
    "        self.data = data\n",
    "        self.next = None\n",
    "\n",
    "class LinkedList:\n",
    "    def __init__(self):\n",
    "        self.head = None\n",
    "\n",
    "    def add_node(self, data):\n",
    "        new_node = Node(data)\n",
    "        if not self.head:\n",
    "            self.head = new_node\n",
    "            return\n",
    "        current = self.head\n",
    "        while current.next:\n",
    "            current = current.next\n",
    "        current.next = new_node\n",
    "\n",
    "    def print_list(self):\n",
    "        if not self.head:\n",
    "            print(\"List is empty.\")\n",
    "            return\n",
    "        current = self.head\n",
    "        while current:\n",
    "            print(current.data, end=\" -> \")\n",
    "            current = current.next\n",
    "        print(\"None\")\n",
    "\n",
    "    def delete_nth_node(self, n):\n",
    "        if not self.head:\n",
    "            raise Exception(\"Cannot delete from an empty list.\")\n",
    "        if n <= 0:\n",
    "            raise Exception(\"Index must be a positive integer.\")\n",
    "\n",
    "        if n == 1:\n",
    "            self.head = self.head.next\n",
    "            return\n",
    "\n",
    "        current = self.head\n",
    "        count = 1\n",
    "        while current and count < n - 1:\n",
    "            current = current.next\n",
    "            count += 1\n",
    "\n",
    "        if not current or not current.next:\n",
    "            raise Exception(\"Index out of range.\")\n",
    "\n",
    "        current.next = current.next.next\n",
    "\n",
    "\n",
    "# Test the LinkedList\n",
    "if __name__ == \"__main__\":\n",
    "    ll = LinkedList()\n",
    "    ll.add_node(10)\n",
    "    ll.add_node(20)\n",
    "    ll.add_node(30)\n",
    "    ll.add_node(40)\n",
    "\n",
    "    print(\"Original List:\")\n",
    "    ll.print_list()\n",
    "\n",
    "    try:\n",
    "        ll.delete_nth_node(3)  \n",
    "    except Exception as e:\n",
    "        print(\"Error:\", e)\n",
    "\n",
    "    print(\"List after deleting 3rd node:\")\n",
    "    ll.print_list()"
   ]
  },
  {
   "cell_type": "code",
   "execution_count": null,
   "id": "f9fa5ec0-804c-47a3-b7e9-e5a2cfa17c88",
   "metadata": {},
   "outputs": [],
   "source": []
  },
  {
   "cell_type": "code",
   "execution_count": null,
   "id": "65d43733-31ea-425e-a921-9fda60b428a7",
   "metadata": {},
   "outputs": [],
   "source": []
  }
 ],
 "metadata": {
  "kernelspec": {
   "display_name": "Python 3 (ipykernel)",
   "language": "python",
   "name": "python3"
  },
  "language_info": {
   "codemirror_mode": {
    "name": "ipython",
    "version": 3
   },
   "file_extension": ".py",
   "mimetype": "text/x-python",
   "name": "python",
   "nbconvert_exporter": "python",
   "pygments_lexer": "ipython3",
   "version": "3.11.7"
  }
 },
 "nbformat": 4,
 "nbformat_minor": 5
}
